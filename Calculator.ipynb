{
  "nbformat": 4,
  "nbformat_minor": 0,
  "metadata": {
    "colab": {
      "provenance": []
    },
    "kernelspec": {
      "name": "python3",
      "display_name": "Python 3"
    },
    "language_info": {
      "name": "python"
    }
  },
  "cells": [
    {
      "cell_type": "markdown",
      "source": [
        " simple calculator"
      ],
      "metadata": {
        "id": "a2KY6n5klWOM"
      }
    },
    {
      "cell_type": "code",
      "source": [
        "def add(x, y):\n",
        "    return x + y\n",
        "\n",
        "def subtract(x, y):\n",
        "    return x - y\n",
        "\n",
        "def multiply(x, y):\n",
        "    return x * y\n",
        "\n",
        "def divide(x, y):\n",
        "    if y != 0:\n",
        "        return x / y\n",
        "    else:\n",
        "        return \"Error: Cannot divide by zero.\""
      ],
      "metadata": {
        "id": "Plv1Ea11mVPI"
      },
      "execution_count": 4,
      "outputs": []
    },
    {
      "cell_type": "code",
      "execution_count": 6,
      "metadata": {
        "colab": {
          "base_uri": "https://localhost:8080/"
        },
        "id": "ikJhbkmtlU73",
        "outputId": "a5416d62-b526-4f43-d34b-08fcf88b1eb3"
      },
      "outputs": [
        {
          "output_type": "stream",
          "name": "stdout",
          "text": [
            "Welcome to the Simple Calculator!\n",
            "Enter the first number: 2\n",
            "Enter the second number: 4\n",
            "\n",
            "Choose an operation:\n",
            "1. Add\n",
            "2. Subtract\n",
            "3. Multiply\n",
            "4. Divide\n",
            "Enter your choice (1/2/3/4): 1\n",
            "\n",
            "Result: 6.0\n"
          ]
        }
      ],
      "source": [
        "def main():\n",
        "    print(\"Welcome to the Simple Calculator!\")\n",
        "    num1 = float(input(\"Enter the first number: \"))\n",
        "    num2 = float(input(\"Enter the second number: \"))\n",
        "\n",
        "    print(\"\\nChoose an operation:\")\n",
        "    print(\"1. Add\")\n",
        "    print(\"2. Subtract\")\n",
        "    print(\"3. Multiply\")\n",
        "    print(\"4. Divide\")\n",
        "    choice = input(\"Enter your choice (1/2/3/4): \")\n",
        "\n",
        "    if choice == '1':\n",
        "        result = add(num1, num2)\n",
        "    elif choice == '2':\n",
        "        result = subtract(num1, num2)\n",
        "    elif choice == '3':\n",
        "        result = multiply(num1, num2)\n",
        "    elif choice == '4':\n",
        "        result = divide(num1, num2)\n",
        "    else:\n",
        "        result = \"Invalid input. Please choose a valid operation.\"\n",
        "\n",
        "    print(f\"\\nResult: {result}\")\n",
        "\n",
        "if __name__ == \"__main__\":\n",
        "    main()"
      ]
    },
    {
      "cell_type": "code",
      "source": [],
      "metadata": {
        "id": "5rIGAjBCmAVy"
      },
      "execution_count": null,
      "outputs": []
    }
  ]
}